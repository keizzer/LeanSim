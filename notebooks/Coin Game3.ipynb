{
 "cells": [
  {
   "cell_type": "code",
   "execution_count": 54,
   "metadata": {},
   "outputs": [
    {
     "name": "stdout",
     "output_type": "stream",
     "text": [
      "3.7.0 (default, Jun 28 2018, 13:15:42) \n",
      "[GCC 7.2.0]\n"
     ]
    }
   ],
   "source": [
    "import sys\n",
    "print(sys.version)"
   ]
  },
  {
   "cell_type": "code",
   "execution_count": 170,
   "metadata": {},
   "outputs": [],
   "source": [
    "from dataclasses import dataclass, field\n",
    "from typing import Union\n",
    "from IPython.display import clear_output\n",
    "from time import sleep\n",
    "import matplotlib.pyplot as plt\n",
    "%matplotlib inline"
   ]
  },
  {
   "cell_type": "code",
   "execution_count": 249,
   "metadata": {},
   "outputs": [
    {
     "data": {
      "text/plain": [
       "Worker(todo=3, doing=0, outbox=0)"
      ]
     },
     "execution_count": 249,
     "metadata": {},
     "output_type": "execute_result"
    }
   ],
   "source": [
    "@dataclass\n",
    "class Worker:\n",
    "    todo: int = 0\n",
    "    doing: int = 0\n",
    "    outbox: int = 0\n",
    "    target: Union[Worker, type(None)] = field(default=None, repr=False)\n",
    "    task_duration: int = field(default=1, repr=False)\n",
    "    batch_size: int = field(default=1, repr=False)\n",
    "    max_todo: Union[int, type(None)] = field(default=None, repr=False)\n",
    "    _task_time: int = field(default=0, repr=False)\n",
    "    \n",
    "        \n",
    "    def work(self):\n",
    "        \n",
    "        if not self.doing and self.todo:\n",
    "            self.todo -= 1\n",
    "            self.doing += 1\n",
    "        if self.doing:\n",
    "            self._task_time += 1\n",
    "            if self._task_time >= self.task_duration:\n",
    "                self.doing = 0\n",
    "                self._task_time = 0\n",
    "                self.outbox += 1\n",
    "    \n",
    "    def push(self):\n",
    "        if self.outbox >= self.batch_size:\n",
    "            to_push = self.batch_size\n",
    "        elif self.outbox and not any([self.todo, self.doing]):\n",
    "            to_push = self.outbox\n",
    "        else:\n",
    "            to_push = 0\n",
    "        \n",
    "        if not self.target:\n",
    "            self.outbox -= to_push\n",
    "        elif not self.target.max_todo:\n",
    "            self.target.todo += to_push\n",
    "            self.outbox -= to_push\n",
    "        elif self.target.max_todo >= self.target.todo + self.target.doing + to_push:\n",
    "            self.target.todo += to_push\n",
    "            self.outbox -= to_push\n",
    "                    \n",
    "        \n",
    "    @property\n",
    "    def wip(self):\n",
    "        return self.todo + self.doing + self.outbox\n",
    "\n",
    "Worker(todo=3)"
   ]
  },
  {
   "cell_type": "code",
   "execution_count": 232,
   "metadata": {},
   "outputs": [
    {
     "name": "stdout",
     "output_type": "stream",
     "text": [
      "Worker(todo=2, doing=0, outbox=0)\n",
      "Worker(todo=1, doing=0, outbox=1)\n",
      "Worker(todo=0, doing=0, outbox=1)\n",
      "Worker(todo=0, doing=0, outbox=0)\n",
      "Worker(todo=0, doing=0, outbox=0)\n"
     ]
    }
   ],
   "source": [
    "w = Worker(todo=2)\n",
    "print(w)\n",
    "for el in range(4):\n",
    "    w.push()\n",
    "    w.work()\n",
    "    print(w)"
   ]
  },
  {
   "cell_type": "code",
   "execution_count": 252,
   "metadata": {},
   "outputs": [],
   "source": [
    "class Workflow:\n",
    "    \n",
    "    def __init__(self, workers):\n",
    "        self.workers = workers\n",
    "        \n",
    "    @property\n",
    "    def wip(self):\n",
    "        return sum(w.wip for w in self.workers)\n",
    "        \n",
    "    def step(self):\n",
    "        for worker in self.workers[::-1]:\n",
    "            worker.push()\n",
    "            worker.work()\n",
    "\n",
    "    def process(self, work, verbose=False, interactive=True, sleep_time=0.1):\n",
    "        \"\"\"Returns number of steps to process some piece of work.\"\"\"\n",
    "        self.workers[0].todo = 20\n",
    "        steps = 0\n",
    "        while self.wip:\n",
    "            steps += 1\n",
    "            self.step()\n",
    "            if verbose:\n",
    "                if interactive:\n",
    "                    clear_output()\n",
    "                print(workflow)\n",
    "                print(f'Steps: {steps}', end='\\n\\n', flush=True)\n",
    "                if interactive:\n",
    "                    sleep(sleep_time)\n",
    "        return steps\n",
    "    \n",
    "    def __repr__(self):\n",
    "        rep = ''\n",
    "        for attr in ['todo', 'doing', 'outbox']:\n",
    "                rep += f'{attr}:\\t(' + '->\\t'.join(f'{getattr(w, attr)}' for w in self.workers) + ')\\n'\n",
    "        rep += 'WIP:\\t {}\\n'.format(\"\\t\".join(str(w.wip) for w in self.workers))\n",
    "        rep += f'Total WIP: {self.wip}'\n",
    "        return rep\n",
    "    \n",
    "    @classmethod\n",
    "    def run_chained_process(cls, work=20, workers=4, batch_size=1, verbose=False):\n",
    "        queue = [Worker(batch_size=batch_size) for _ in range(4)]\n",
    "        for w1, w2 in zip(queue[:-1], queue[1:]):\n",
    "            w1.target = w2\n",
    "        \n",
    "        workflow = cls(workers=queue)\n",
    "        steps = workflow.process(work=work, verbose=verbose)\n",
    "        return steps"
   ]
  },
  {
   "cell_type": "code",
   "execution_count": 262,
   "metadata": {},
   "outputs": [
    {
     "name": "stdout",
     "output_type": "stream",
     "text": [
      "todo:\t(0->\t0->\t0->\t0)\n",
      "doing:\t(0->\t0->\t0->\t0)\n",
      "outbox:\t(0->\t0->\t0->\t0)\n",
      "WIP:\t 0\t0\t0\t0\n",
      "Total WIP: 0\n",
      "Steps: 50\n",
      "\n"
     ]
    },
    {
     "data": {
      "text/plain": [
       "50"
      ]
     },
     "execution_count": 262,
     "metadata": {},
     "output_type": "execute_result"
    }
   ],
   "source": [
    "queue = [Worker(batch_size=1, task_duration=2) for _ in range(4)]\n",
    "for w1, w2 in zip(queue[:-1], queue[1:]):\n",
    "    w1.target = w2\n",
    "\n",
    "# queue[1].task_duration = 2\n",
    "queue[1].max_todo = None\n",
    "workflow = Workflow(workers=queue)\n",
    "workflow.process(20, verbose=True, interactive=True, sleep_time=0.1)"
   ]
  },
  {
   "cell_type": "code",
   "execution_count": 255,
   "metadata": {},
   "outputs": [
    {
     "data": {
      "image/png": "[encoded data removed]",
      "text/plain": [
       "<Figure size 432x288 with 1 Axes>"
      ]
     },
     "metadata": {
      "needs_background": "light"
     },
     "output_type": "display_data"
    }
   ],
   "source": [
    "batch_sizes = list(range(1, 21))\n",
    "total_time = []\n",
    "for batch_size in batch_sizes:\n",
    "    steps = Workflow.run_chained_process(work=20, workers=4, batch_size=batch_size)\n",
    "    total_time.append(steps)\n",
    "    \n",
    "plt.plot(batch_sizes, total_time);\n",
    "plt.ylim(0, plt.gca().get_ylim()[1]);"
   ]
  },
  {
   "cell_type": "code",
   "execution_count": null,
   "metadata": {},
   "outputs": [],
   "source": []
  }
 ],
 "metadata": {
  "kernelspec": {
   "display_name": "py37",
   "language": "python",
   "name": "py37"
  },
  "language_info": {
   "codemirror_mode": {
    "name": "ipython",
    "version": 3
   },
   "file_extension": ".py",
   "mimetype": "text/x-python",
   "name": "python",
   "nbconvert_exporter": "python",
   "pygments_lexer": "ipython3",
   "version": "3.7.0"
  }
 },
 "nbformat": 4,
 "nbformat_minor": 2
}
